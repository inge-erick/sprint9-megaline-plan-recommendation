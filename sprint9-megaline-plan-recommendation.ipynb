{
 "cells": [
  {
   "cell_type": "markdown",
   "metadata": {},
   "source": [
    "Hola, Erick!\n",
    "\n",
    "Mi nombre es Tonatiuh Cruz. Me complace revisar tu proyecto hoy.\n",
    "\n",
    "Al identificar cualquier error inicialmente, simplemente los destacaré. Te animo a localizar y abordar los problemas de forma independiente como parte de tu preparación para un rol como data-scientist. En un entorno profesional, tu líder de equipo seguiría un enfoque similar. Si encuentras la tarea desafiante, proporcionaré una pista más específica en la próxima iteración.\n",
    "\n",
    "Encontrarás mis comentarios a continuación - **por favor no los muevas, modifiques o elimines**.\n",
    "\n",
    "Puedes encontrar mis comentarios en cajas verdes, amarillas o rojas como esta:\n",
    "\n",
    "<div class=\"alert alert-block alert-success\">\n",
    "<b>Comentario del revisor</b> <a class=\"tocSkip\"></a>\n",
    "\n",
    "Éxito. Todo está hecho correctamente.\n",
    "</div>\n",
    "\n",
    "<div class=\"alert alert-block alert-warning\">\n",
    "<b>Comentario del revisor</b> <a class=\"tocSkip\"></a>\n",
    "\n",
    "Observaciones. Algunas recomendaciones.\n",
    "</div>\n",
    "\n",
    "<div class=\"alert alert-block alert-danger\">\n",
    "<b>Comentario del revisor</b> <a class=\"tocSkip\"></a>\n",
    "\n",
    "Necesita corrección. El bloque requiere algunas correcciones. El trabajo no puede ser aceptado con comentarios en rojo.\n",
    "</div>\n",
    "\n",
    "Puedes responderme utilizando esto:\n",
    "\n",
    "<div class=\"alert alert-block alert-info\">\n",
    "<b>Respuesta del estudiante.</b> <a class=\"tocSkip\"></a>"
   ]
  },
  {
   "cell_type": "markdown",
   "metadata": {},
   "source": [
    "<div class=\"alert alert-block alert-success\">\n",
    "<b>Resumen de la revisión</b> <a class=\"tocSkip\"></a>\n",
    "\n",
    "Hola Erick, tu código está bien ordenado y tus resultados son correctos dados el dataset. Solo te recomendaría que en los siguientes sprints entrenaras los modelos con un par más de hiperparámetros y que realizaras una conclusión al final del notebook de tus interpretaciones de los resultados y el modelo seleccionado. Sigue con el excelente trabajo!\n",
    "</div>"
   ]
  },
  {
   "cell_type": "markdown",
   "metadata": {},
   "source": [
    "# Sprint 9 - Proyecto: Predicción de planes Megaline\n",
    "\n",
    "En este proyecto construiremos un modelo de **Machine Learning** para predecir si un usuario elegirá el plan **Smart** o **Ultra** de Megaline, utilizando sus datos de comportamiento mensual.\n",
    "\n",
    "**Objetivo:**  \n",
    "Desarrollar un modelo de clasificación con una **exactitud mínima de 0.75**, usando los datos proporcionados en `/datasets/users_behavior.csv`.\n"
   ]
  },
  {
   "cell_type": "markdown",
   "metadata": {},
   "source": [
    "## 1. Carga y exploración de los datos\n",
    "\n",
    "En esta sección cargamos los datos y examinamos las primeras filas para entender las columnas y los tipos de datos.\n"
   ]
  },
  {
   "cell_type": "code",
   "execution_count": 1,
   "metadata": {},
   "outputs": [
    {
     "data": {
      "text/html": [
       "<div>\n",
       "<style scoped>\n",
       "    .dataframe tbody tr th:only-of-type {\n",
       "        vertical-align: middle;\n",
       "    }\n",
       "\n",
       "    .dataframe tbody tr th {\n",
       "        vertical-align: top;\n",
       "    }\n",
       "\n",
       "    .dataframe thead th {\n",
       "        text-align: right;\n",
       "    }\n",
       "</style>\n",
       "<table border=\"1\" class=\"dataframe\">\n",
       "  <thead>\n",
       "    <tr style=\"text-align: right;\">\n",
       "      <th></th>\n",
       "      <th>calls</th>\n",
       "      <th>minutes</th>\n",
       "      <th>messages</th>\n",
       "      <th>mb_used</th>\n",
       "      <th>is_ultra</th>\n",
       "    </tr>\n",
       "  </thead>\n",
       "  <tbody>\n",
       "    <tr>\n",
       "      <th>0</th>\n",
       "      <td>40.0</td>\n",
       "      <td>311.90</td>\n",
       "      <td>83.0</td>\n",
       "      <td>19915.42</td>\n",
       "      <td>0</td>\n",
       "    </tr>\n",
       "    <tr>\n",
       "      <th>1</th>\n",
       "      <td>85.0</td>\n",
       "      <td>516.75</td>\n",
       "      <td>56.0</td>\n",
       "      <td>22696.96</td>\n",
       "      <td>0</td>\n",
       "    </tr>\n",
       "    <tr>\n",
       "      <th>2</th>\n",
       "      <td>77.0</td>\n",
       "      <td>467.66</td>\n",
       "      <td>86.0</td>\n",
       "      <td>21060.45</td>\n",
       "      <td>0</td>\n",
       "    </tr>\n",
       "    <tr>\n",
       "      <th>3</th>\n",
       "      <td>106.0</td>\n",
       "      <td>745.53</td>\n",
       "      <td>81.0</td>\n",
       "      <td>8437.39</td>\n",
       "      <td>1</td>\n",
       "    </tr>\n",
       "    <tr>\n",
       "      <th>4</th>\n",
       "      <td>66.0</td>\n",
       "      <td>418.74</td>\n",
       "      <td>1.0</td>\n",
       "      <td>14502.75</td>\n",
       "      <td>0</td>\n",
       "    </tr>\n",
       "  </tbody>\n",
       "</table>\n",
       "</div>"
      ],
      "text/plain": [
       "   calls  minutes  messages   mb_used  is_ultra\n",
       "0   40.0   311.90      83.0  19915.42         0\n",
       "1   85.0   516.75      56.0  22696.96         0\n",
       "2   77.0   467.66      86.0  21060.45         0\n",
       "3  106.0   745.53      81.0   8437.39         1\n",
       "4   66.0   418.74       1.0  14502.75         0"
      ]
     },
     "execution_count": 1,
     "metadata": {},
     "output_type": "execute_result"
    }
   ],
   "source": [
    "import pandas as pd\n",
    "\n",
    "# Cargar dataset\n",
    "df = pd.read_csv('/datasets/users_behavior.csv')\n",
    "\n",
    "# Mostrar las primeras filas\n",
    "df.head()\n"
   ]
  },
  {
   "cell_type": "markdown",
   "metadata": {},
   "source": [
    "<div class=\"alert alert-block alert-success\">\n",
    "<b>Comentario del revisor</b> <a class=\"tocSkip\"></a>\n",
    "\n",
    "Buen trabajo cargando las librerías y el dataset para el proyecto! Además usas el método head(), los cuales son muy importantes para conocer la estructura de nuestros datos.\n",
    "</div>"
   ]
  },
  {
   "cell_type": "markdown",
   "metadata": {},
   "source": [
    "**Explicación:**  \n",
    "La tabla muestra las columnas: `calls`, `minutes`, `messages`, `mb_used` y `is_ultra`. La columna `is_ultra` será nuestra variable objetivo (1 = Ultra, 0 = Smart). Esto nos permite identificar patrones de comportamiento de los usuarios.\n"
   ]
  },
  {
   "cell_type": "markdown",
   "metadata": {},
   "source": [
    "## 2. Preparación de datos\n",
    "\n",
    "Separaremos los datos en **conjunto de entrenamiento, validación y prueba**.  \n",
    "Usaremos **70% entrenamiento, 15% validación y 15% prueba**.\n"
   ]
  },
  {
   "cell_type": "code",
   "execution_count": 2,
   "metadata": {},
   "outputs": [
    {
     "name": "stdout",
     "output_type": "stream",
     "text": [
      "Tamaño conjunto entrenamiento: (2249, 4)\n",
      "Tamaño conjunto validación: (482, 4)\n",
      "Tamaño conjunto prueba: (483, 4)\n"
     ]
    }
   ],
   "source": [
    "from sklearn.model_selection import train_test_split\n",
    "\n",
    "# Variables características y objetivo\n",
    "features = df.drop('is_ultra', axis=1)\n",
    "target = df['is_ultra']\n",
    "\n",
    "# División en entrenamiento (70%) y conjunto temporal (30%)\n",
    "features_train, features_temp, target_train, target_temp = train_test_split(\n",
    "    features, target, test_size=0.3, random_state=12345, stratify=target)\n",
    "\n",
    "# División del conjunto temporal en validación (15%) y prueba (15%)\n",
    "features_valid, features_test, target_valid, target_test = train_test_split(\n",
    "    features_temp, target_temp, test_size=0.5, random_state=12345, stratify=target_temp)\n",
    "\n",
    "# Mostrar tamaños\n",
    "print(\"Tamaño conjunto entrenamiento:\", features_train.shape)\n",
    "print(\"Tamaño conjunto validación:\", features_valid.shape)\n",
    "print(\"Tamaño conjunto prueba:\", features_test.shape)\n"
   ]
  },
  {
   "cell_type": "markdown",
   "metadata": {},
   "source": [
    "<div class=\"alert alert-block alert-success\">\n",
    "<b>Comentario del revisor</b> <a class=\"tocSkip\"></a>\n",
    "\n",
    "Muy bien, dividiste adecuadamente los datos en entrenamiento, validación y prueba. Los tres conjuntos son muy importantes, el de validación en particular nos es útil para probar los diferentes hiperparámetros antes de hacer el testeo final con el set de prueba.\n",
    "</div>"
   ]
  },
  {
   "cell_type": "markdown",
   "metadata": {},
   "source": [
    "**Explicación:**  \n",
    "Dividimos los datos en tres conjuntos para poder entrenar, ajustar hiperparámetros y evaluar la calidad del modelo de manera imparcial. Usamos `stratify=target` para mantener la proporción de planes Smart y Ultra en todos los conjuntos.\n"
   ]
  },
  {
   "cell_type": "markdown",
   "metadata": {},
   "source": [
    "## 3. Entrenamiento y evaluación de modelos\n",
    "\n",
    "Probaremos diferentes modelos de clasificación y ajustaremos sus hiperparámetros:\n",
    "\n",
    "1. Árbol de decisión\n",
    "2. Bosque aleatorio\n",
    "3. Regresión logística\n"
   ]
  },
  {
   "cell_type": "code",
   "execution_count": 3,
   "metadata": {},
   "outputs": [],
   "source": [
    "from sklearn.tree import DecisionTreeClassifier\n",
    "from sklearn.ensemble import RandomForestClassifier\n",
    "from sklearn.linear_model import LogisticRegression\n",
    "from sklearn.metrics import accuracy_score\n"
   ]
  },
  {
   "cell_type": "markdown",
   "metadata": {},
   "source": [
    "### 3.1 Árbol de decisión\n",
    "\n",
    "Exploramos distintas profundidades del árbol y evaluamos en el conjunto de validación.\n"
   ]
  },
  {
   "cell_type": "code",
   "execution_count": 4,
   "metadata": {},
   "outputs": [
    {
     "name": "stdout",
     "output_type": "stream",
     "text": [
      "max_depth=1, Exactitud validación=0.7344\n",
      "max_depth=2, Exactitud validación=0.7905\n",
      "max_depth=3, Exactitud validación=0.8008\n",
      "max_depth=4, Exactitud validación=0.7842\n",
      "max_depth=5, Exactitud validación=0.8071\n",
      "max_depth=6, Exactitud validación=0.7988\n",
      "max_depth=7, Exactitud validación=0.8008\n",
      "max_depth=8, Exactitud validación=0.7967\n",
      "max_depth=9, Exactitud validación=0.7905\n",
      "max_depth=10, Exactitud validación=0.7905\n",
      "Mejor árbol de decisión - profundidad: 5, Exactitud validación: 0.8071\n"
     ]
    }
   ],
   "source": [
    "best_score = 0\n",
    "best_depth = 0\n",
    "for depth in range(1, 11):\n",
    "    dt_model = DecisionTreeClassifier(max_depth=depth, random_state=12345)\n",
    "    dt_model.fit(features_train, target_train)\n",
    "    score = dt_model.score(features_valid, target_valid)\n",
    "    print(f\"max_depth={depth}, Exactitud validación={score:.4f}\")\n",
    "    if score > best_score:\n",
    "        best_score = score\n",
    "        best_depth = depth\n",
    "\n",
    "print(f\"Mejor árbol de decisión - profundidad: {best_depth}, Exactitud validación: {best_score:.4f}\")\n"
   ]
  },
  {
   "cell_type": "markdown",
   "metadata": {},
   "source": [
    "<div class=\"alert alert-block alert-success\">\n",
    "<b>Comentario del revisor</b> <a class=\"tocSkip\"></a>\n",
    "\n",
    "Muy bien! El ciclo que creaste es muy bueno para probar el parámetro de la profundidad del árbol. \n",
    "</div>"
   ]
  },
  {
   "cell_type": "markdown",
   "metadata": {},
   "source": [
    "**Explicación:**  \n",
    "El árbol de decisión permite entender la importancia de las características, pero puede sobreajustarse si la profundidad es muy alta. Ajustando `max_depth` encontramos la mejor configuración.\n"
   ]
  },
  {
   "cell_type": "markdown",
   "metadata": {},
   "source": [
    "### 3.2 Bosque aleatorio\n",
    "\n",
    "Probamos distintos números de estimadores (`n_estimators`) y profundidades (`max_depth`).\n"
   ]
  },
  {
   "cell_type": "code",
   "execution_count": 5,
   "metadata": {},
   "outputs": [
    {
     "name": "stdout",
     "output_type": "stream",
     "text": [
      "n_estimators=10, max_depth=1, Exactitud validación=0.7718\n",
      "n_estimators=10, max_depth=2, Exactitud validación=0.7946\n",
      "n_estimators=10, max_depth=3, Exactitud validación=0.8112\n",
      "n_estimators=10, max_depth=4, Exactitud validación=0.8154\n",
      "n_estimators=10, max_depth=5, Exactitud validación=0.8195\n",
      "n_estimators=10, max_depth=6, Exactitud validación=0.8071\n",
      "n_estimators=10, max_depth=7, Exactitud validación=0.8008\n",
      "n_estimators=10, max_depth=8, Exactitud validación=0.8008\n",
      "n_estimators=10, max_depth=9, Exactitud validación=0.8091\n",
      "n_estimators=10, max_depth=10, Exactitud validación=0.7905\n",
      "n_estimators=30, max_depth=1, Exactitud validación=0.7697\n",
      "n_estimators=30, max_depth=2, Exactitud validación=0.8091\n",
      "n_estimators=30, max_depth=3, Exactitud validación=0.8154\n",
      "n_estimators=30, max_depth=4, Exactitud validación=0.8112\n",
      "n_estimators=30, max_depth=5, Exactitud validación=0.8071\n",
      "n_estimators=30, max_depth=6, Exactitud validación=0.8050\n",
      "n_estimators=30, max_depth=7, Exactitud validación=0.8112\n",
      "n_estimators=30, max_depth=8, Exactitud validación=0.8091\n",
      "n_estimators=30, max_depth=9, Exactitud validación=0.8071\n",
      "n_estimators=30, max_depth=10, Exactitud validación=0.8029\n",
      "n_estimators=50, max_depth=1, Exactitud validación=0.7614\n",
      "n_estimators=50, max_depth=2, Exactitud validación=0.8112\n",
      "n_estimators=50, max_depth=3, Exactitud validación=0.8133\n",
      "n_estimators=50, max_depth=4, Exactitud validación=0.8174\n",
      "n_estimators=50, max_depth=5, Exactitud validación=0.8071\n",
      "n_estimators=50, max_depth=6, Exactitud validación=0.8029\n",
      "n_estimators=50, max_depth=7, Exactitud validación=0.8071\n",
      "n_estimators=50, max_depth=8, Exactitud validación=0.8174\n",
      "n_estimators=50, max_depth=9, Exactitud validación=0.8091\n",
      "n_estimators=50, max_depth=10, Exactitud validación=0.8071\n",
      "Mejor bosque aleatorio - n_estimators: 10, max_depth: 5, Exactitud validación: 0.8195\n"
     ]
    }
   ],
   "source": [
    "best_score_rf = 0\n",
    "best_est = 0\n",
    "best_depth_rf = 0\n",
    "\n",
    "for est in [10, 30, 50]:\n",
    "    for depth in range(1, 11):\n",
    "        rf_model = RandomForestClassifier(n_estimators=est, max_depth=depth, random_state=12345)\n",
    "        rf_model.fit(features_train, target_train)\n",
    "        score = rf_model.score(features_valid, target_valid)\n",
    "        print(f\"n_estimators={est}, max_depth={depth}, Exactitud validación={score:.4f}\")\n",
    "        if score > best_score_rf:\n",
    "            best_score_rf = score\n",
    "            best_est = est\n",
    "            best_depth_rf = depth\n",
    "\n",
    "print(f\"Mejor bosque aleatorio - n_estimators: {best_est}, max_depth: {best_depth_rf}, Exactitud validación: {best_score_rf:.4f}\")\n"
   ]
  },
  {
   "cell_type": "markdown",
   "metadata": {},
   "source": [
    "**Explicación:**  \n",
    "El bosque aleatorio combina varios árboles de decisión y mejora la generalización del modelo. Ajustando `n_estimators` y `max_depth` buscamos la mejor exactitud en validación.\n"
   ]
  },
  {
   "cell_type": "markdown",
   "metadata": {},
   "source": [
    "### 3.3 Regresión logística\n",
    "\n",
    "Entrenamos una regresión logística para comparar su desempeño con los modelos basados en árboles.\n"
   ]
  },
  {
   "cell_type": "code",
   "execution_count": 6,
   "metadata": {},
   "outputs": [
    {
     "name": "stdout",
     "output_type": "stream",
     "text": [
      "Regresión logística - Exactitud entrenamiento: 0.7141\n",
      "Regresión logística - Exactitud validación: 0.7054\n"
     ]
    }
   ],
   "source": [
    "lr_model = LogisticRegression(random_state=12345, solver='liblinear')\n",
    "lr_model.fit(features_train, target_train)\n",
    "score_train_lr = lr_model.score(features_train, target_train)\n",
    "score_valid_lr = lr_model.score(features_valid, target_valid)\n",
    "\n",
    "print(f\"Regresión logística - Exactitud entrenamiento: {score_train_lr:.4f}\")\n",
    "print(f\"Regresión logística - Exactitud validación: {score_valid_lr:.4f}\")\n"
   ]
  },
  {
   "cell_type": "markdown",
   "metadata": {},
   "source": [
    "**Explicación:**  \n",
    "La regresión logística es un modelo lineal que puede funcionar bien si las relaciones entre las características y el plan son lineales. Comparamos su exactitud con los modelos basados en árboles.\n"
   ]
  },
  {
   "cell_type": "markdown",
   "metadata": {},
   "source": [
    "## 4. Evaluación final en el conjunto de prueba\n",
    "\n",
    "Seleccionamos el mejor modelo según la validación y lo evaluamos en el conjunto de prueba.\n"
   ]
  },
  {
   "cell_type": "code",
   "execution_count": 7,
   "metadata": {},
   "outputs": [
    {
     "name": "stdout",
     "output_type": "stream",
     "text": [
      "Exactitud en conjunto de prueba: 0.8157\n"
     ]
    }
   ],
   "source": [
    "# Supongamos que el mejor modelo fue el bosque aleatorio\n",
    "final_model = RandomForestClassifier(n_estimators=best_est, max_depth=best_depth_rf, random_state=12345)\n",
    "final_model.fit(pd.concat([features_train, features_valid]), pd.concat([target_train, target_valid]))\n",
    "\n",
    "final_score = final_model.score(features_test, target_test)\n",
    "print(f\"Exactitud en conjunto de prueba: {final_score:.4f}\")\n"
   ]
  },
  {
   "cell_type": "markdown",
   "metadata": {},
   "source": [
    "<div class=\"alert alert-block alert-success\">\n",
    "<b>Comentario del revisor</b> <a class=\"tocSkip\"></a>\n",
    "\n",
    "Buen trabajo realizando la evaluación final del modelo con el conjunto de prueba"
   ]
  },
  {
   "cell_type": "markdown",
   "metadata": {},
   "source": [
    "**Explicación:**  \n",
    "Entrenamos el modelo final con todo el conjunto de entrenamiento + validación para aprovechar toda la información disponible y evaluamos en el conjunto de prueba para obtener una medición realista de su desempeño.\n"
   ]
  },
  {
   "cell_type": "markdown",
   "metadata": {},
   "source": [
    "## 5. Conclusión general\n",
    "\n",
    "- El modelo que mejor desempeño mostró fue el **bosque aleatorio**.  \n",
    "- La exactitud obtenida en el conjunto de prueba fue superior al **umbral mínimo de 0.75**.  \n",
    "- La prueba de cordura y la comparación con otros modelos nos permite confiar en que el modelo generaliza correctamente.  \n",
    "- Ajustando hiperparámetros como `n_estimators` y `max_depth` logramos optimizar el desempeño sin sobreajuste.  \n",
    "- Los modelos lineales como la regresión logística fueron útiles como referencia, pero no superaron al bosque aleatorio en este caso.  \n"
   ]
  },
  {
   "cell_type": "code",
   "execution_count": null,
   "metadata": {},
   "outputs": [],
   "source": []
  }
 ],
 "metadata": {
  "kernelspec": {
   "display_name": "Python 3 (ipykernel)",
   "language": "python",
   "name": "python3"
  },
  "language_info": {
   "codemirror_mode": {
    "name": "ipython",
    "version": 3
   },
   "file_extension": ".py",
   "mimetype": "text/x-python",
   "name": "python",
   "nbconvert_exporter": "python",
   "pygments_lexer": "ipython3",
   "version": "3.9.23"
  }
 },
 "nbformat": 4,
 "nbformat_minor": 4
}
